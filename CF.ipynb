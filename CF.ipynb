{
  "nbformat": 4,
  "nbformat_minor": 0,
  "metadata": {
    "colab": {
      "provenance": [],
      "authorship_tag": "ABX9TyMRWsVLUWaqHJFyqQjN1V0w",
      "include_colab_link": true
    },
    "kernelspec": {
      "name": "python3",
      "display_name": "Python 3"
    },
    "language_info": {
      "name": "python"
    }
  },
  "cells": [
    {
      "cell_type": "markdown",
      "metadata": {
        "id": "view-in-github",
        "colab_type": "text"
      },
      "source": [
        "<a href=\"https://colab.research.google.com/github/xbracaa/Sistem-Pakar-Certainty-Factor-Fuzzy-Logic-/blob/main/CF.ipynb\" target=\"_parent\"><img src=\"https://colab.research.google.com/assets/colab-badge.svg\" alt=\"Open In Colab\"/></a>"
      ]
    },
    {
      "cell_type": "code",
      "execution_count": 1,
      "metadata": {
        "colab": {
          "base_uri": "https://localhost:8080/"
        },
        "id": "R2zAE7OcAwU5",
        "outputId": "5cb1cadc-c318-489b-860a-be19b31959a1"
      },
      "outputs": [
        {
          "output_type": "stream",
          "name": "stdout",
          "text": [
            "CF diagnosis Flu: 0.94\n"
          ]
        }
      ],
      "source": [
        "gejala_user = {\n",
        "    \"demam\": 0.2,  # Sebelumnya 0.7, diturunkan ke 0.2\n",
        "    \"batuk\": 0.5,\n",
        "    \"sakit_tenggorokan\": 0.6,\n",
        "    \"pilek\": 0.7,\n",
        "    \"sakit_kepala\": 0.4,\n",
        "    \"lelah\": 0.6,\n",
        "    \"nyeri_otot\": 0.5,\n",
        "    \"bersin\": 0.3\n",
        "}\n",
        "\n",
        "pengetahuan = {\n",
        "    \"flu\":{\n",
        "        \"demam\":0.8,\n",
        "        \"batuk\":0.7,\n",
        "        \"sakit_tenggorokan\": 0.6,\n",
        "        \"pilek\": 0.6,\n",
        "        \"sakit_kepala\": 0.5,\n",
        "        \"lelah\": 0.7,\n",
        "        \"nyeri_otot\": 0.6,\n",
        "        \"bersin\": 0.4\n",
        "        }\n",
        "}\n",
        "\n",
        "def hitung_cf(gejala_user, pengetahuan_pakar):\n",
        "  cf_total = 0\n",
        "  first = True\n",
        "  for gejala, cf_user in gejala_user.items():\n",
        "    if gejala in pengetahuan_pakar:\n",
        "      cf_pakar = pengetahuan_pakar[gejala]\n",
        "      cf = cf_user * cf_pakar\n",
        "      if first:\n",
        "        cf_total = cf\n",
        "        first = False\n",
        "      else:\n",
        "        cf_total = cf_total + cf * (1 - cf_total)\n",
        "  return cf_total\n",
        "\n",
        "cf_flu = hitung_cf(gejala_user, pengetahuan[\"flu\"])\n",
        "print(f\"CF diagnosis Flu: {cf_flu:.2f}\")\n",
        "\n"
      ]
    },
    {
      "cell_type": "markdown",
      "source": [
        "# Penjelasan:\n",
        "Nilai CF 'demam' diturunkan dari 0.7 ke 0.2. Karena 'demam' punya CF pakar tinggi (0.8), kontribusinya terhadap hasil akhir jadi jauh lebih kecil. Namun, dengan menambahkan 5 gejala baru yang relevan (pilek, sakit kepala, lelah, nyeri otot, bersin), sistem tetap bisa menghasilkan CF diagnosis yang cukup tinggi. Ini menunjukkan bahwa sistem pakar dengan metode CF mempertimbangkan semua bukti relevan, dan hasilnya akan lebih akurat jika lebih banyak gejala dicocokkan."
      ],
      "metadata": {
        "id": "N5IpCwrTDQWZ"
      }
    }
  ]
}